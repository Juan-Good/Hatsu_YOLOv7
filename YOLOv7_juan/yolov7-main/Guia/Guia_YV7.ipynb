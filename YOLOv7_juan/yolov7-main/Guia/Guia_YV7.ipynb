{
 "cells": [
  {
   "cell_type": "markdown",
   "id": "4792e6e7-fcd7-46a7-b7c5-53234aba2f2f",
   "metadata": {},
   "source": [
    "### 1.1 Creación de un entorno virtual"
   ]
  },
  {
   "cell_type": "code",
   "execution_count": null,
   "id": "4b64f03e-0afb-4c05-a458-2c2406b2cfd9",
   "metadata": {},
   "outputs": [],
   "source": [
    "#conda create -n nombre_del_entorno python=3.9"
   ]
  },
  {
   "cell_type": "markdown",
   "id": "f6d1e705-ba9b-4d29-917d-889b46270510",
   "metadata": {},
   "source": [
    "### 1.2 Activacion del entorno"
   ]
  },
  {
   "cell_type": "code",
   "execution_count": null,
   "id": "43c9a3c4-524a-4abf-bcac-0362f0998643",
   "metadata": {},
   "outputs": [],
   "source": [
    "#conda activate nombre_del_entorno python"
   ]
  },
  {
   "cell_type": "code",
   "execution_count": null,
   "id": "d11caad4-6f43-4429-8725-85b32aa7bba2",
   "metadata": {},
   "outputs": [],
   "source": []
  },
  {
   "cell_type": "markdown",
   "id": "cebd4745-ad72-4ffc-8570-3ec5ce21ace3",
   "metadata": {},
   "source": [
    "## 2 Creacion de un DataSet Propio\n",
    "\n",
    "Dado que se busca hacer un detector personalizado es muy probable que sea necesario tener nuestro propio set de datos para el entrenamiento del modelo, es posible que existan algunos datasets ya etiquetados que otras personas ya hayan etiquetado. Sin embargo para nustro caso particular deseabamos detectar algunos prodcutos de una tienda de conveniencia, al ser algo tan particular no encontramos otro recurso mas que la creación de nuestro dataset.\n",
    "\n",
    "Esto perse no es algo negativo, de hecho construir el dataset con imagenes que luego procesara el modelo le da un mejor desempeño en esas condciones, sin embargo su desempeño podra variar al variar esas condiciones particulares. \n",
    "\n",
    "Cabe mencionar que la creación de un dataset propio implica un trabajo adicional, dado que implica otros procesos. A continuación presentamos algunas maneras de crear estos datasrts propios\n"
   ]
  },
  {
   "cell_type": "markdown",
   "id": "2b13d436-2686-463a-8c68-1ab948c70cfe",
   "metadata": {},
   "source": [
    "### 2.1 Recolección de imagenes"
   ]
  },
  {
   "cell_type": "markdown",
   "id": "c760e18e-7dbe-4850-aa7b-2286ba6209bb",
   "metadata": {},
   "source": [
    "#### 2.1.1 Dataset a partir de Internet\n",
    "Una posible solución es simplemente descargar las imagenes de internet. Esto nos brindara una gran cantidad de imagenes con gran diversidad\n",
    "\n",
    "Para hacer esto usaremos simple_image_download.\n"
   ]
  },
  {
   "cell_type": "markdown",
   "id": "f0cba929-e9ed-4d00-8144-cc26b0a1361f",
   "metadata": {},
   "source": [
    "#pip install simple_image_download==0.4"
   ]
  },
  {
   "cell_type": "markdown",
   "id": "aa2b83c9-1c7a-43f5-b59f-8d253fc5be98",
   "metadata": {},
   "source": [
    "Luego usaremos el siguiente script"
   ]
  },
  {
   "cell_type": "code",
   "execution_count": null,
   "id": "c9da4e5a-c68b-456a-a5bb-8743a35e1cc0",
   "metadata": {},
   "outputs": [],
   "source": [
    "from simple_image_download import simple_image_download as simp\n",
    "\n",
    "response =simp.simple_image_download\n",
    "\n",
    "number_images=100                #Numero de imagenes a decargar palabra clave\n",
    "keywords = [\"hatsu azul 400 ml\"] #Prompt o busqueda de google a hacer, puede poner varias palabras clave\n",
    "\n",
    "for kw in keywords:\n",
    "    response().download(kw,number_images)"
   ]
  },
  {
   "cell_type": "markdown",
   "id": "9dea7eec-108c-4cb6-beae-a2104afb6ed9",
   "metadata": {},
   "source": [
    "Este script creara una carpeta llamada simple_images, dentro de la carpeta creara una carpeta por cada una de las keywords, una vez genere las carpetas traslade todas las imagenes a otra carpeta, por ejemplo una carpeta llamada data o images"
   ]
  },
  {
   "cell_type": "code",
   "execution_count": null,
   "id": "84c04159-9f90-452b-885d-68843091a4e2",
   "metadata": {},
   "outputs": [],
   "source": [
    "2"
   ]
  },
  {
   "cell_type": "markdown",
   "id": "1a084612-66d2-49dc-93d6-25db10d262ab",
   "metadata": {},
   "source": [
    "#### 2.1.2 Dataset a partir de captura de video - modo video\n",
    "Otra posibilidad es crear el dataset a partir de una captura de video, es decir que cada cuadro o algunos de los cuadro del video sean imagenes para el entrenamiento del modelo\n",
    "\n",
    "Para esto usaremos el siguiente script\n"
   ]
  },
  {
   "cell_type": "code",
   "execution_count": null,
   "id": "400a180d-0666-4412-954d-c6e9175f09c2",
   "metadata": {},
   "outputs": [],
   "source": [
    "import cv2\n",
    "import os\n",
    "import time\n",
    "import uuid\n",
    "\n",
    "IMAGES_PATH = os.path.join('data','captured_images') #Declaramos la ruta donde guardaremos las imagenes capturadas\n",
    "number_images = 30 #Declaramos la cantidad de iamgenes a capturar\n",
    "\n",
    "cap = cv2.VideoCapture(0) # El numero indica la camara a usar, 1 suele ser una webcam externa mientras0 es la incorporada\n",
    "\n",
    "time.sleep(1.5)  #tiempo entre imagenes capturadas\n",
    "\n",
    "for imgnum in range(number_images):\n",
    "    print('Collecting image {}'.format(imgnum))\n",
    "    ret, frame = cap.read()\n",
    "    imgname = os.path.join(IMAGES_PATH,f'{str(uuid.uuid1())}.jpg')\n",
    "    cv2.imwrite(imgname, frame)\n",
    "    cv2.imshow('frame', frame)\n",
    "    time.sleep(0.5)\n",
    "\n",
    "    if cv2.waitKey(1) & 0xFF == ord('q'): #Se indica que con q se cierra la ventana\n",
    "        break\n",
    "cap.release()\n",
    "cv2.destroyAllWindows()"
   ]
  },
  {
   "cell_type": "markdown",
   "id": "b605b590-b501-45f0-9c1a-6f01efdfcfab",
   "metadata": {},
   "source": [
    "#### 2.1.3 Dataset a partir de captura de video - modo captura\n",
    "Otra posibilidad es crear el dataset a partir de una captura de video, es decir que cada cuadro o algunos de los cuadro del video sean imagenes para el entrenamiento del modelo, a diferencia del modo anterior donde se capturan las imagnes seguido, en este modo se selecciona en que momento desea realizar la captura.\n",
    "\n",
    "Para esto usaremos el siguiente script que captura la imagen al presionar la tecla s, se termina al salir(Preisonar tecla q ) o cuando se capture el numero de imagenes deseado.\n"
   ]
  },
  {
   "cell_type": "code",
   "execution_count": null,
   "id": "8aa9adb3-0cb6-4f1b-863b-70a398efff8c",
   "metadata": {},
   "outputs": [],
   "source": [
    "import cv2\n",
    "import os\n",
    "import time\n",
    "import uuid\n",
    "\n",
    "# Ruta donde se guardarán las fotos\n",
    "images_path = os.path.join('data','captured_images')\n",
    "\n",
    "\n",
    "\n",
    "# Función para capturar varias fotos y guardarlas en el directorio especificado\n",
    "def capture_images():\n",
    "    # Creamos la ventana donde se mostrará la imagen\n",
    "    cv2.namedWindow(\"Captura de imagen\", cv2.WINDOW_NORMAL)\n",
    "    \n",
    "    # Inicializamos la cámara\n",
    "    cap = cv2.VideoCapture(1)\n",
    "    \n",
    "    # Contador para nombrar las imágenes capturadas\n",
    "    count = 0\n",
    "    number_images = 30 #Declaramos la cantidad de iamgenes a capturar\n",
    "    \n",
    "    while True:\n",
    "        # Capturamos una imagen de la cámara\n",
    "        ret, frame = cap.read()\n",
    "\n",
    "        new_size = (640, 480)\n",
    "        frame = cv2.resize(frame, new_size)\n",
    "        \n",
    "        # Mostramos la imagen capturada en la ventana\n",
    "        cv2.imshow(\"Captura de imagen\", frame)\n",
    "        \n",
    "        # Esperamos a que se presione una tecla\n",
    "        key = cv2.waitKey(1)\n",
    "        \n",
    "        # Si se presiona la tecla \"s\", guardamos la imagen actual en el directorio especificado\n",
    "        if key == ord(\"s\"):\n",
    "            count += 1\n",
    "            filename = os.path.join(images_path,f'{str(uuid.uuid1())}.jpg')\n",
    "            cv2.imwrite(filename, frame)\n",
    "            print(\"Imagen guardada como\", filename)\n",
    "        \n",
    "        # Si se presiona la tecla \"q\", salimos del bucle\n",
    "        elif key == ord(\"q\") or count>=number_images:\n",
    "            break\n",
    "    \n",
    "    # Liberamos los recursos de la cámara y cerramos la ventana\n",
    "    cap.release()\n",
    "    cv2.destroyAllWindows()\n",
    "\n",
    "# Llamamos a la función para capturar las fotos\n",
    "capture_images()\n"
   ]
  },
  {
   "cell_type": "markdown",
   "id": "196e2fdf-625d-4372-8073-d84b1f5dc4f2",
   "metadata": {},
   "source": [
    "### 2.2 Etiquetado de Imagenes\n",
    "Una vez recolectadas las imagenes la siguiente etapa es etiquetar las imagenes, esto se refiere a indicar que objetos se encuentran en la imagen y cuales son sus pocisiones.\n",
    "\n",
    "Para tal fin usaremos el paquete labelImg"
   ]
  },
  {
   "cell_type": "code",
   "execution_count": null,
   "id": "e737dccf-f474-4740-b4e0-70243bdce52c",
   "metadata": {},
   "outputs": [],
   "source": [
    "#pip install labelImg"
   ]
  },
  {
   "cell_type": "markdown",
   "id": "b6dc754d-2d4e-4de4-91dd-d96e37ef651c",
   "metadata": {},
   "source": []
  },
  {
   "cell_type": "code",
   "execution_count": null,
   "id": "29ff160d-ba44-458b-8841-ef1ff4568ffe",
   "metadata": {},
   "outputs": [],
   "source": []
  }
 ],
 "metadata": {
  "kernelspec": {
   "display_name": "Python 3 (ipykernel)",
   "language": "python",
   "name": "python3"
  },
  "language_info": {
   "codemirror_mode": {
    "name": "ipython",
    "version": 3
   },
   "file_extension": ".py",
   "mimetype": "text/x-python",
   "name": "python",
   "nbconvert_exporter": "python",
   "pygments_lexer": "ipython3",
   "version": "3.9.13"
  },
  "toc-showmarkdowntxt": false,
  "toc-showtags": false
 },
 "nbformat": 4,
 "nbformat_minor": 5
}
